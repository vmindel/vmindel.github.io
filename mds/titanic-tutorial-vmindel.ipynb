{
 "cells": [
  {
   "cell_type": "code",
   "execution_count": 1,
   "id": "global-winner",
   "metadata": {
    "_cell_guid": "b1076dfc-b9ad-4769-8c92-a6c4dae69d19",
    "_uuid": "8f2839f25d086af736a60e9eeb907d3b93b6e0e5",
    "execution": {
     "iopub.execute_input": "2021-12-02T08:14:47.977645Z",
     "iopub.status.busy": "2021-12-02T08:14:47.976338Z",
     "iopub.status.idle": "2021-12-02T08:14:48.843848Z",
     "shell.execute_reply": "2021-12-02T08:14:48.843088Z",
     "shell.execute_reply.started": "2021-06-12T06:45:35.189359Z"
    },
    "papermill": {
     "duration": 0.898512,
     "end_time": "2021-12-02T08:14:48.844036",
     "exception": false,
     "start_time": "2021-12-02T08:14:47.945524",
     "status": "completed"
    },
    "tags": []
   },
   "outputs": [
    {
     "name": "stdout",
     "output_type": "stream",
     "text": [
      "/kaggle/input/titanic/train.csv\n",
      "/kaggle/input/titanic/test.csv\n",
      "/kaggle/input/titanic/gender_submission.csv\n"
     ]
    }
   ],
   "source": [
    "import numpy as np # linear algebra\n",
    "import pandas as pd # data processing, CSV file I/O (e.g. pd.read_csv)\n",
    "import matplotlib.pyplot as plt\n",
    "import seaborn as sns\n",
    "sns.set()"
   ]
  },
  {
   "cell_type": "code",
   "execution_count": 2,
   "id": "together-enemy",
   "metadata": {
    "execution": {
     "iopub.execute_input": "2021-12-02T08:14:48.919423Z",
     "iopub.status.busy": "2021-12-02T08:14:48.918579Z",
     "iopub.status.idle": "2021-12-02T08:14:48.945526Z",
     "shell.execute_reply": "2021-12-02T08:14:48.944833Z",
     "shell.execute_reply.started": "2021-06-12T06:45:39.55964Z"
    },
    "papermill": {
     "duration": 0.068715,
     "end_time": "2021-12-02T08:14:48.945714",
     "exception": false,
     "start_time": "2021-12-02T08:14:48.876999",
     "status": "completed"
    },
    "tags": []
   },
   "outputs": [],
   "source": [
    "train_data = pd.read_csv('/kaggle/input/titanic/train.csv')\n",
    "test_data = pd.read_csv('/kaggle/input/titanic/test.csv')"
   ]
  },
  {
   "cell_type": "code",
   "execution_count": 3,
   "id": "comparable-modification",
   "metadata": {
    "execution": {
     "iopub.execute_input": "2021-12-02T08:14:49.016659Z",
     "iopub.status.busy": "2021-12-02T08:14:49.008205Z",
     "iopub.status.idle": "2021-12-02T08:14:49.054936Z",
     "shell.execute_reply": "2021-12-02T08:14:49.055544Z",
     "shell.execute_reply.started": "2021-06-12T07:14:23.854212Z"
    },
    "papermill": {
     "duration": 0.079806,
     "end_time": "2021-12-02T08:14:49.055740",
     "exception": false,
     "start_time": "2021-12-02T08:14:48.975934",
     "status": "completed"
    },
    "tags": []
   },
   "outputs": [
    {
     "data": {
      "text/html": [
       "<div>\n",
       "<style scoped>\n",
       "    .dataframe tbody tr th:only-of-type {\n",
       "        vertical-align: middle;\n",
       "    }\n",
       "\n",
       "    .dataframe tbody tr th {\n",
       "        vertical-align: top;\n",
       "    }\n",
       "\n",
       "    .dataframe thead th {\n",
       "        text-align: right;\n",
       "    }\n",
       "</style>\n",
       "<table border=\"1\" class=\"dataframe\">\n",
       "  <thead>\n",
       "    <tr style=\"text-align: right;\">\n",
       "      <th></th>\n",
       "      <th>PassengerId</th>\n",
       "      <th>Survived</th>\n",
       "      <th>Pclass</th>\n",
       "      <th>Name</th>\n",
       "      <th>Sex</th>\n",
       "      <th>Age</th>\n",
       "      <th>SibSp</th>\n",
       "      <th>Parch</th>\n",
       "      <th>Ticket</th>\n",
       "      <th>Fare</th>\n",
       "      <th>Cabin</th>\n",
       "      <th>Embarked</th>\n",
       "    </tr>\n",
       "  </thead>\n",
       "  <tbody>\n",
       "    <tr>\n",
       "      <th>0</th>\n",
       "      <td>1</td>\n",
       "      <td>0</td>\n",
       "      <td>3</td>\n",
       "      <td>Braund, Mr. Owen Harris</td>\n",
       "      <td>male</td>\n",
       "      <td>22.0</td>\n",
       "      <td>1</td>\n",
       "      <td>0</td>\n",
       "      <td>A/5 21171</td>\n",
       "      <td>7.2500</td>\n",
       "      <td>NaN</td>\n",
       "      <td>S</td>\n",
       "    </tr>\n",
       "    <tr>\n",
       "      <th>1</th>\n",
       "      <td>2</td>\n",
       "      <td>1</td>\n",
       "      <td>1</td>\n",
       "      <td>Cumings, Mrs. John Bradley (Florence Briggs Th...</td>\n",
       "      <td>female</td>\n",
       "      <td>38.0</td>\n",
       "      <td>1</td>\n",
       "      <td>0</td>\n",
       "      <td>PC 17599</td>\n",
       "      <td>71.2833</td>\n",
       "      <td>C85</td>\n",
       "      <td>C</td>\n",
       "    </tr>\n",
       "    <tr>\n",
       "      <th>2</th>\n",
       "      <td>3</td>\n",
       "      <td>1</td>\n",
       "      <td>3</td>\n",
       "      <td>Heikkinen, Miss. Laina</td>\n",
       "      <td>female</td>\n",
       "      <td>26.0</td>\n",
       "      <td>0</td>\n",
       "      <td>0</td>\n",
       "      <td>STON/O2. 3101282</td>\n",
       "      <td>7.9250</td>\n",
       "      <td>NaN</td>\n",
       "      <td>S</td>\n",
       "    </tr>\n",
       "    <tr>\n",
       "      <th>3</th>\n",
       "      <td>4</td>\n",
       "      <td>1</td>\n",
       "      <td>1</td>\n",
       "      <td>Futrelle, Mrs. Jacques Heath (Lily May Peel)</td>\n",
       "      <td>female</td>\n",
       "      <td>35.0</td>\n",
       "      <td>1</td>\n",
       "      <td>0</td>\n",
       "      <td>113803</td>\n",
       "      <td>53.1000</td>\n",
       "      <td>C123</td>\n",
       "      <td>S</td>\n",
       "    </tr>\n",
       "    <tr>\n",
       "      <th>4</th>\n",
       "      <td>5</td>\n",
       "      <td>0</td>\n",
       "      <td>3</td>\n",
       "      <td>Allen, Mr. William Henry</td>\n",
       "      <td>male</td>\n",
       "      <td>35.0</td>\n",
       "      <td>0</td>\n",
       "      <td>0</td>\n",
       "      <td>373450</td>\n",
       "      <td>8.0500</td>\n",
       "      <td>NaN</td>\n",
       "      <td>S</td>\n",
       "    </tr>\n",
       "  </tbody>\n",
       "</table>\n",
       "</div>"
      ],
      "text/plain": [
       "   PassengerId  Survived  Pclass  \\\n",
       "0            1         0       3   \n",
       "1            2         1       1   \n",
       "2            3         1       3   \n",
       "3            4         1       1   \n",
       "4            5         0       3   \n",
       "\n",
       "                                                Name     Sex   Age  SibSp  \\\n",
       "0                            Braund, Mr. Owen Harris    male  22.0      1   \n",
       "1  Cumings, Mrs. John Bradley (Florence Briggs Th...  female  38.0      1   \n",
       "2                             Heikkinen, Miss. Laina  female  26.0      0   \n",
       "3       Futrelle, Mrs. Jacques Heath (Lily May Peel)  female  35.0      1   \n",
       "4                           Allen, Mr. William Henry    male  35.0      0   \n",
       "\n",
       "   Parch            Ticket     Fare Cabin Embarked  \n",
       "0      0         A/5 21171   7.2500   NaN        S  \n",
       "1      0          PC 17599  71.2833   C85        C  \n",
       "2      0  STON/O2. 3101282   7.9250   NaN        S  \n",
       "3      0            113803  53.1000  C123        S  \n",
       "4      0            373450   8.0500   NaN        S  "
      ]
     },
     "execution_count": 3,
     "metadata": {},
     "output_type": "execute_result"
    }
   ],
   "source": [
    "train_data.head()"
   ]
  },
  {
   "cell_type": "code",
   "execution_count": 4,
   "id": "alone-texture",
   "metadata": {
    "execution": {
     "iopub.execute_input": "2021-12-02T08:14:49.138692Z",
     "iopub.status.busy": "2021-12-02T08:14:49.136544Z",
     "iopub.status.idle": "2021-12-02T08:14:49.144770Z",
     "shell.execute_reply": "2021-12-02T08:14:49.145682Z",
     "shell.execute_reply.started": "2021-06-12T06:45:40.947249Z"
    },
    "papermill": {
     "duration": 0.057958,
     "end_time": "2021-12-02T08:14:49.145934",
     "exception": false,
     "start_time": "2021-12-02T08:14:49.087976",
     "status": "completed"
    },
    "tags": []
   },
   "outputs": [
    {
     "name": "stdout",
     "output_type": "stream",
     "text": [
      "Women survived 0.7420382165605095\n",
      "Men survived 0.18890814558058924\n"
     ]
    }
   ],
   "source": [
    "women = train_data.loc[train_data.Sex == 'female']['Survived']\n",
    "print('Women survived',sum(women)/len(women))\n",
    "\n",
    "men = train_data.loc[train_data.Sex == 'male']['Survived']\n",
    "print('Men survived',sum(men)/len(men))"
   ]
  },
  {
   "cell_type": "code",
   "execution_count": 5,
   "id": "faced-tomorrow",
   "metadata": {
    "execution": {
     "iopub.execute_input": "2021-12-02T08:14:49.236365Z",
     "iopub.status.busy": "2021-12-02T08:14:49.235435Z",
     "iopub.status.idle": "2021-12-02T08:14:49.247125Z",
     "shell.execute_reply": "2021-12-02T08:14:49.248114Z",
     "shell.execute_reply.started": "2021-06-12T06:45:43.178145Z"
    },
    "papermill": {
     "duration": 0.068618,
     "end_time": "2021-12-02T08:14:49.248409",
     "exception": false,
     "start_time": "2021-12-02T08:14:49.179791",
     "status": "completed"
    },
    "tags": []
   },
   "outputs": [],
   "source": [
    "train_data['female'] = pd.get_dummies(train_data['Sex'])['female']\n",
    "test_data['female'] = pd.get_dummies(test_data['Sex'])['female']"
   ]
  },
  {
   "cell_type": "code",
   "execution_count": 6,
   "id": "pursuant-amino",
   "metadata": {
    "execution": {
     "iopub.execute_input": "2021-12-02T08:14:49.342025Z",
     "iopub.status.busy": "2021-12-02T08:14:49.339622Z",
     "iopub.status.idle": "2021-12-02T08:14:49.347310Z",
     "shell.execute_reply": "2021-12-02T08:14:49.346727Z",
     "shell.execute_reply.started": "2021-06-12T07:15:24.777884Z"
    },
    "papermill": {
     "duration": 0.049108,
     "end_time": "2021-12-02T08:14:49.347469",
     "exception": false,
     "start_time": "2021-12-02T08:14:49.298361",
     "status": "completed"
    },
    "tags": []
   },
   "outputs": [],
   "source": [
    "sum(train_data['Age'].isnull())\n",
    "train_data['Age'] = train_data['Age'].fillna(train_data['Age'].mean())\n",
    "test_data['Age'] = test_data['Age'].fillna(test_data['Age'].mean())"
   ]
  },
  {
   "cell_type": "code",
   "execution_count": 7,
   "id": "pursuant-arrival",
   "metadata": {
    "execution": {
     "iopub.execute_input": "2021-12-02T08:14:49.411547Z",
     "iopub.status.busy": "2021-12-02T08:14:49.410834Z",
     "iopub.status.idle": "2021-12-02T08:14:49.999008Z",
     "shell.execute_reply": "2021-12-02T08:14:49.998362Z",
     "shell.execute_reply.started": "2021-06-12T07:15:59.677909Z"
    },
    "papermill": {
     "duration": 0.621176,
     "end_time": "2021-12-02T08:14:49.999174",
     "exception": false,
     "start_time": "2021-12-02T08:14:49.377998",
     "status": "completed"
    },
    "tags": []
   },
   "outputs": [
    {
     "data": {
      "text/plain": [
       "<AxesSubplot:xlabel='Age', ylabel='Count'>"
      ]
     },
     "execution_count": 7,
     "metadata": {},
     "output_type": "execute_result"
    },
    {
     "data": {
      "image/png": "[encoded data removed]",
      "text/plain": [
       "<Figure size 432x288 with 2 Axes>"
      ]
     },
     "metadata": {},
     "output_type": "display_data"
    }
   ],
   "source": [
    "plt.subplot(1,2,1)\n",
    "sns.histplot(train_data.Age)\n",
    "plt.subplot(1,2,2)\n",
    "sns.histplot(test_data.Age)"
   ]
  },
  {
   "cell_type": "code",
   "execution_count": 8,
   "id": "roman-means",
   "metadata": {
    "execution": {
     "iopub.execute_input": "2021-12-02T08:14:50.069476Z",
     "iopub.status.busy": "2021-12-02T08:14:50.068689Z",
     "iopub.status.idle": "2021-12-02T08:14:50.075407Z",
     "shell.execute_reply": "2021-12-02T08:14:50.074085Z",
     "shell.execute_reply.started": "2021-06-12T06:52:28.819061Z"
    },
    "papermill": {
     "duration": 0.045556,
     "end_time": "2021-12-02T08:14:50.075690",
     "exception": false,
     "start_time": "2021-12-02T08:14:50.030134",
     "status": "completed"
    },
    "tags": []
   },
   "outputs": [
    {
     "name": "stdout",
     "output_type": "stream",
     "text": [
      "High fare survivors 0.7358490566037735\n",
      "High fare survivors 0.3176470588235294\n"
     ]
    }
   ],
   "source": [
    "high_fare = train_data.loc[train_data.Fare > 100]['Survived']\n",
    "print('High fare survivors',sum(high_fare)/len(high_fare))\n",
    "low_fare = train_data.loc[train_data.Fare < 32]['Survived']\n",
    "print('High fare survivors',sum(low_fare)/len(low_fare))"
   ]
  },
  {
   "cell_type": "code",
   "execution_count": 9,
   "id": "subtle-reconstruction",
   "metadata": {
    "execution": {
     "iopub.execute_input": "2021-12-02T08:14:50.141866Z",
     "iopub.status.busy": "2021-12-02T08:14:50.141210Z",
     "iopub.status.idle": "2021-12-02T08:14:50.153040Z",
     "shell.execute_reply": "2021-12-02T08:14:50.153695Z",
     "shell.execute_reply.started": "2021-06-12T06:55:51.093279Z"
    },
    "papermill": {
     "duration": 0.046594,
     "end_time": "2021-12-02T08:14:50.153863",
     "exception": false,
     "start_time": "2021-12-02T08:14:50.107269",
     "status": "completed"
    },
    "tags": []
   },
   "outputs": [
    {
     "name": "stdout",
     "output_type": "stream",
     "text": [
      "Class1 0.6296296296296297\n",
      "Class2 0.47282608695652173\n",
      "Class3 0.24236252545824846\n"
     ]
    }
   ],
   "source": [
    "pclass1 = train_data.loc[train_data.Pclass == 1]['Survived']\n",
    "print('Class1',sum(pclass1)/len(pclass1))\n",
    "pclass2 = train_data.loc[train_data.Pclass == 2]['Survived']\n",
    "print('Class2',sum(pclass2)/len(pclass2))\n",
    "pclass3 = train_data.loc[train_data.Pclass == 3]['Survived']\n",
    "print('Class3',sum(pclass3)/len(pclass3))"
   ]
  },
  {
   "cell_type": "code",
   "execution_count": 10,
   "id": "ongoing-olive",
   "metadata": {
    "execution": {
     "iopub.execute_input": "2021-12-02T08:14:50.219731Z",
     "iopub.status.busy": "2021-12-02T08:14:50.218978Z",
     "iopub.status.idle": "2021-12-02T08:14:50.224474Z",
     "shell.execute_reply": "2021-12-02T08:14:50.225069Z",
     "shell.execute_reply.started": "2021-06-12T07:16:50.661159Z"
    },
    "papermill": {
     "duration": 0.040403,
     "end_time": "2021-12-02T08:14:50.225255",
     "exception": false,
     "start_time": "2021-12-02T08:14:50.184852",
     "status": "completed"
    },
    "tags": []
   },
   "outputs": [
    {
     "data": {
      "text/plain": [
       "0"
      ]
     },
     "execution_count": 10,
     "metadata": {},
     "output_type": "execute_result"
    }
   ],
   "source": [
    "sum(test_data.Pclass.isna())"
   ]
  },
  {
   "cell_type": "code",
   "execution_count": 11,
   "id": "improved-toddler",
   "metadata": {
    "execution": {
     "iopub.execute_input": "2021-12-02T08:14:50.302443Z",
     "iopub.status.busy": "2021-12-02T08:14:50.301250Z",
     "iopub.status.idle": "2021-12-02T08:14:50.310554Z",
     "shell.execute_reply": "2021-12-02T08:14:50.311122Z",
     "shell.execute_reply.started": "2021-06-12T07:17:24.177369Z"
    },
    "papermill": {
     "duration": 0.054291,
     "end_time": "2021-12-02T08:14:50.311357",
     "exception": false,
     "start_time": "2021-12-02T08:14:50.257066",
     "status": "completed"
    },
    "tags": []
   },
   "outputs": [],
   "source": [
    "train_data['class1'] = pd.get_dummies(train_data.Pclass)[1]\n",
    "test_data['class1'] = pd.get_dummies(test_data.Pclass)[1]\n",
    "train_data['class2'] = pd.get_dummies(train_data.Pclass)[2]\n",
    "test_data['class2'] = pd.get_dummies(test_data.Pclass)[2]"
   ]
  },
  {
   "cell_type": "code",
   "execution_count": 12,
   "id": "touched-stephen",
   "metadata": {
    "execution": {
     "iopub.execute_input": "2021-12-02T08:14:50.397323Z",
     "iopub.status.busy": "2021-12-02T08:14:50.396600Z",
     "iopub.status.idle": "2021-12-02T08:14:50.402612Z",
     "shell.execute_reply": "2021-12-02T08:14:50.403272Z",
     "shell.execute_reply.started": "2021-06-12T07:17:38.37549Z"
    },
    "papermill": {
     "duration": 0.051123,
     "end_time": "2021-12-02T08:14:50.403444",
     "exception": false,
     "start_time": "2021-12-02T08:14:50.352321",
     "status": "completed"
    },
    "tags": []
   },
   "outputs": [
    {
     "data": {
      "text/plain": [
       "0"
      ]
     },
     "execution_count": 12,
     "metadata": {},
     "output_type": "execute_result"
    }
   ],
   "source": [
    "sum(test_data.SibSp.isna())"
   ]
  },
  {
   "cell_type": "code",
   "execution_count": 13,
   "id": "worst-glance",
   "metadata": {
    "execution": {
     "iopub.execute_input": "2021-12-02T08:14:50.478001Z",
     "iopub.status.busy": "2021-12-02T08:14:50.473563Z",
     "iopub.status.idle": "2021-12-02T08:14:50.482523Z",
     "shell.execute_reply": "2021-12-02T08:14:50.481972Z",
     "shell.execute_reply.started": "2021-06-12T07:17:54.547836Z"
    },
    "papermill": {
     "duration": 0.04733,
     "end_time": "2021-12-02T08:14:50.482679",
     "exception": false,
     "start_time": "2021-12-02T08:14:50.435349",
     "status": "completed"
    },
    "tags": []
   },
   "outputs": [
    {
     "name": "stdout",
     "output_type": "stream",
     "text": [
      "0.39412484700122397\n"
     ]
    }
   ],
   "source": [
    "sibs = train_data.loc[train_data.SibSp <= 1]['Survived']\n",
    "print(sum(sibs)/len(sibs))\n",
    "train_data['many_sibs'] = (train_data.SibSp > 1)*1\n",
    "test_data['many_sibs'] = (test_data.SibSp > 1)*1"
   ]
  },
  {
   "cell_type": "code",
   "execution_count": 14,
   "id": "spiritual-professional",
   "metadata": {
    "execution": {
     "iopub.execute_input": "2021-12-02T08:14:50.556718Z",
     "iopub.status.busy": "2021-12-02T08:14:50.554807Z",
     "iopub.status.idle": "2021-12-02T08:14:50.562926Z",
     "shell.execute_reply": "2021-12-02T08:14:50.561580Z",
     "shell.execute_reply.started": "2021-06-12T07:06:36.109184Z"
    },
    "papermill": {
     "duration": 0.048313,
     "end_time": "2021-12-02T08:14:50.563212",
     "exception": false,
     "start_time": "2021-12-02T08:14:50.514899",
     "status": "completed"
    },
    "tags": []
   },
   "outputs": [
    {
     "name": "stdout",
     "output_type": "stream",
     "text": [
      "0.5903614457831325\n",
      "0.37423312883435583\n"
     ]
    }
   ],
   "source": [
    "young = train_data.loc[train_data.Age <= 15]['Survived']\n",
    "print(sum(young)/len(young))\n",
    "\n",
    "old = train_data.loc[train_data.Age >=40]['Survived']\n",
    "print(sum(old)/len(old))"
   ]
  },
  {
   "cell_type": "code",
   "execution_count": 15,
   "id": "informational-recipe",
   "metadata": {
    "execution": {
     "iopub.execute_input": "2021-12-02T08:14:50.636521Z",
     "iopub.status.busy": "2021-12-02T08:14:50.635853Z",
     "iopub.status.idle": "2021-12-02T08:14:50.649219Z",
     "shell.execute_reply": "2021-12-02T08:14:50.648654Z",
     "shell.execute_reply.started": "2021-06-12T07:18:17.381654Z"
    },
    "papermill": {
     "duration": 0.052821,
     "end_time": "2021-12-02T08:14:50.649383",
     "exception": false,
     "start_time": "2021-12-02T08:14:50.596562",
     "status": "completed"
    },
    "tags": []
   },
   "outputs": [],
   "source": [
    "bins = [0.42, 15, 30, 50,80]\n",
    "train_data['bin_age'] = pd.cut(x=train_data.Age, bins=bins)\n",
    "test_data['bin_age'] = pd.cut(x=test_data.Age, bins=bins)"
   ]
  },
  {
   "cell_type": "code",
   "execution_count": 16,
   "id": "neutral-mattress",
   "metadata": {
    "execution": {
     "iopub.execute_input": "2021-12-02T08:14:50.721108Z",
     "iopub.status.busy": "2021-12-02T08:14:50.720459Z",
     "iopub.status.idle": "2021-12-02T08:14:50.729988Z",
     "shell.execute_reply": "2021-12-02T08:14:50.729452Z",
     "shell.execute_reply.started": "2021-06-12T07:18:47.479921Z"
    },
    "papermill": {
     "duration": 0.048157,
     "end_time": "2021-12-02T08:14:50.730130",
     "exception": false,
     "start_time": "2021-12-02T08:14:50.681973",
     "status": "completed"
    },
    "tags": []
   },
   "outputs": [],
   "source": [
    "train_data['young'] = pd.get_dummies(train_data.bin_age).iloc[:,0]\n",
    "test_data['young'] = pd.get_dummies(test_data.bin_age).iloc[:,0]\n",
    "train_data['senior'] = pd.get_dummies(train_data.bin_age).iloc[:,3]\n",
    "test_data['senior'] = pd.get_dummies(test_data.bin_age).iloc[:,3]"
   ]
  },
  {
   "cell_type": "code",
   "execution_count": 17,
   "id": "incomplete-friendly",
   "metadata": {
    "execution": {
     "iopub.execute_input": "2021-12-02T08:14:50.803446Z",
     "iopub.status.busy": "2021-12-02T08:14:50.802699Z",
     "iopub.status.idle": "2021-12-02T08:14:50.806983Z",
     "shell.execute_reply": "2021-12-02T08:14:50.806451Z",
     "shell.execute_reply.started": "2021-06-12T07:22:34.739191Z"
    },
    "papermill": {
     "duration": 0.044212,
     "end_time": "2021-12-02T08:14:50.807120",
     "exception": false,
     "start_time": "2021-12-02T08:14:50.762908",
     "status": "completed"
    },
    "tags": []
   },
   "outputs": [],
   "source": [
    "train_data.corr()['Survived']\n",
    "\n",
    "features = ['Pclass', 'Fare', 'female', 'class1', 'class2', 'many_sibs', 'young', 'senior']"
   ]
  },
  {
   "cell_type": "code",
   "execution_count": 18,
   "id": "chubby-stable",
   "metadata": {
    "execution": {
     "iopub.execute_input": "2021-12-02T08:14:50.877752Z",
     "iopub.status.busy": "2021-12-02T08:14:50.876850Z",
     "iopub.status.idle": "2021-12-02T08:14:51.140447Z",
     "shell.execute_reply": "2021-12-02T08:14:51.139831Z",
     "shell.execute_reply.started": "2021-06-12T07:21:48.476822Z"
    },
    "papermill": {
     "duration": 0.301018,
     "end_time": "2021-12-02T08:14:51.140601",
     "exception": false,
     "start_time": "2021-12-02T08:14:50.839583",
     "status": "completed"
    },
    "tags": []
   },
   "outputs": [],
   "source": [
    "from sklearn.model_selection import train_test_split\n",
    "from sklearn.linear_model import LogisticRegression\n",
    "from sklearn.metrics import accuracy_score, confusion_matrix"
   ]
  },
  {
   "cell_type": "code",
   "execution_count": 19,
   "id": "included-salad",
   "metadata": {
    "execution": {
     "iopub.execute_input": "2021-12-02T08:14:51.216269Z",
     "iopub.status.busy": "2021-12-02T08:14:51.215178Z",
     "iopub.status.idle": "2021-12-02T08:14:51.219459Z",
     "shell.execute_reply": "2021-12-02T08:14:51.218794Z",
     "shell.execute_reply.started": "2021-06-12T07:23:09.795108Z"
    },
    "papermill": {
     "duration": 0.045655,
     "end_time": "2021-12-02T08:14:51.219627",
     "exception": false,
     "start_time": "2021-12-02T08:14:51.173972",
     "status": "completed"
    },
    "tags": []
   },
   "outputs": [],
   "source": [
    "X = train_data[features]\n",
    "y = train_data.Survived\n",
    "X_train, X_test, y_train, y_test = train_test_split(X, y, test_size = 0.33, random_state = 0)"
   ]
  },
  {
   "cell_type": "code",
   "execution_count": 20,
   "id": "flying-suite",
   "metadata": {
    "execution": {
     "iopub.execute_input": "2021-12-02T08:14:51.307939Z",
     "iopub.status.busy": "2021-12-02T08:14:51.307143Z",
     "iopub.status.idle": "2021-12-02T08:14:51.356097Z",
     "shell.execute_reply": "2021-12-02T08:14:51.355511Z",
     "shell.execute_reply.started": "2021-06-12T07:23:21.400338Z"
    },
    "papermill": {
     "duration": 0.103094,
     "end_time": "2021-12-02T08:14:51.356258",
     "exception": false,
     "start_time": "2021-12-02T08:14:51.253164",
     "status": "completed"
    },
    "tags": []
   },
   "outputs": [
    {
     "name": "stderr",
     "output_type": "stream",
     "text": [
      "/opt/conda/lib/python3.7/site-packages/sklearn/linear_model/_logistic.py:765: ConvergenceWarning: lbfgs failed to converge (status=1):\n",
      "STOP: TOTAL NO. of ITERATIONS REACHED LIMIT.\n",
      "\n",
      "Increase the number of iterations (max_iter) or scale the data as shown in:\n",
      "    https://scikit-learn.org/stable/modules/preprocessing.html\n",
      "Please also refer to the documentation for alternative solver options:\n",
      "    https://scikit-learn.org/stable/modules/linear_model.html#logistic-regression\n",
      "  extra_warning_msg=_LOGISTIC_SOLVER_CONVERGENCE_MSG)\n"
     ]
    },
    {
     "data": {
      "text/plain": [
       "array([0, 0, 0, 1, 1, 0, 1, 1, 0, 1, 0, 1, 0, 1, 1, 1, 0, 0, 0, 0, 0, 1,\n",
       "       0, 0, 1, 1, 0, 1, 1, 1, 0, 1, 0, 0, 0, 0, 0, 0, 0, 0, 0, 0, 0, 0,\n",
       "       1, 0, 0, 1, 0, 0, 0, 0, 1, 0, 0, 0, 0, 1, 0, 0, 0, 1, 1, 0, 1, 0,\n",
       "       1, 0, 1, 1, 1, 0, 0, 0, 0, 0, 0, 0, 0, 0, 0, 0, 1, 0, 0, 1, 1, 0,\n",
       "       1, 0, 0, 0, 1, 1, 1, 0, 1, 0, 0, 0, 0, 0, 0, 0, 1, 1, 1, 1, 0, 1,\n",
       "       0, 1, 0, 1, 0, 1, 1, 1, 0, 1, 0, 0, 0, 0, 0, 0, 0, 0, 0, 0, 1, 0,\n",
       "       0, 1, 0, 0, 0, 1, 0, 0, 0, 1, 0, 1, 1, 1, 0, 1, 1, 0, 0, 1, 1, 0,\n",
       "       1, 0, 1, 0, 1, 1, 0, 0, 1, 0, 0, 0, 0, 0, 0, 0, 0, 1, 0, 0, 1, 0,\n",
       "       1, 0, 0, 1, 0, 0, 0, 0, 0, 0, 1, 0, 0, 1, 1, 0, 1, 1, 0, 0, 0, 1,\n",
       "       0, 0, 0, 1, 0, 1, 0, 0, 1, 0, 1, 0, 0, 0, 0, 1, 0, 0, 0, 0, 1, 1,\n",
       "       0, 1, 1, 0, 0, 0, 0, 1, 0, 0, 0, 1, 1, 1, 0, 0, 1, 1, 1, 0, 0, 1,\n",
       "       0, 0, 1, 0, 1, 0, 0, 1, 0, 0, 0, 0, 0, 1, 1, 0, 0, 0, 0, 0, 0, 0,\n",
       "       0, 0, 1, 0, 0, 1, 0, 0, 1, 1, 1, 0, 0, 0, 1, 1, 0, 1, 0, 1, 0, 0,\n",
       "       0, 0, 0, 0, 0, 0, 1, 1, 1])"
      ]
     },
     "execution_count": 20,
     "metadata": {},
     "output_type": "execute_result"
    }
   ],
   "source": [
    "log_reg = LogisticRegression()\n",
    "log_reg.fit(X_train, y_train)\n",
    "y_pred = log_reg.predict(X_test)\n",
    "y_pred"
   ]
  },
  {
   "cell_type": "code",
   "execution_count": 21,
   "id": "falling-warrant",
   "metadata": {
    "execution": {
     "iopub.execute_input": "2021-12-02T08:14:51.426592Z",
     "iopub.status.busy": "2021-12-02T08:14:51.425926Z",
     "iopub.status.idle": "2021-12-02T08:14:51.431728Z",
     "shell.execute_reply": "2021-12-02T08:14:51.432491Z",
     "shell.execute_reply.started": "2021-06-12T07:23:55.487352Z"
    },
    "papermill": {
     "duration": 0.043098,
     "end_time": "2021-12-02T08:14:51.432705",
     "exception": false,
     "start_time": "2021-12-02T08:14:51.389607",
     "status": "completed"
    },
    "tags": []
   },
   "outputs": [
    {
     "data": {
      "text/plain": [
       "0.7796610169491526"
      ]
     },
     "execution_count": 21,
     "metadata": {},
     "output_type": "execute_result"
    }
   ],
   "source": [
    "accuracy_score(y_pred, y_test)"
   ]
  },
  {
   "cell_type": "code",
   "execution_count": 22,
   "id": "excited-electricity",
   "metadata": {
    "execution": {
     "iopub.execute_input": "2021-12-02T08:14:51.505510Z",
     "iopub.status.busy": "2021-12-02T08:14:51.504794Z",
     "iopub.status.idle": "2021-12-02T08:14:51.513924Z",
     "shell.execute_reply": "2021-12-02T08:14:51.513356Z",
     "shell.execute_reply.started": "2021-06-12T07:24:03.165477Z"
    },
    "papermill": {
     "duration": 0.04658,
     "end_time": "2021-12-02T08:14:51.514076",
     "exception": false,
     "start_time": "2021-12-02T08:14:51.467496",
     "status": "completed"
    },
    "tags": []
   },
   "outputs": [
    {
     "data": {
      "text/plain": [
       "array([[154,  35],\n",
       "       [ 30,  76]])"
      ]
     },
     "execution_count": 22,
     "metadata": {},
     "output_type": "execute_result"
    }
   ],
   "source": [
    "confusion_matrix(y_pred, y_test)"
   ]
  },
  {
   "cell_type": "code",
   "execution_count": 23,
   "id": "impressed-medline",
   "metadata": {
    "execution": {
     "iopub.execute_input": "2021-12-02T08:14:51.589087Z",
     "iopub.status.busy": "2021-12-02T08:14:51.588401Z",
     "iopub.status.idle": "2021-12-02T08:14:52.054499Z",
     "shell.execute_reply": "2021-12-02T08:14:52.055021Z",
     "shell.execute_reply.started": "2021-06-12T07:27:47.991117Z"
    },
    "papermill": {
     "duration": 0.506462,
     "end_time": "2021-12-02T08:14:52.055219",
     "exception": false,
     "start_time": "2021-12-02T08:14:51.548757",
     "status": "completed"
    },
    "tags": []
   },
   "outputs": [],
   "source": [
    "from sklearn.ensemble import RandomForestClassifier\n",
    "model = RandomForestClassifier(n_estimators=100, max_depth=5, random_state=1)\n",
    "model.fit(X_train, y_train)\n",
    "y_pred = model.predict(X_test)"
   ]
  },
  {
   "cell_type": "code",
   "execution_count": 24,
   "id": "lightweight-donna",
   "metadata": {
    "execution": {
     "iopub.execute_input": "2021-12-02T08:14:52.127638Z",
     "iopub.status.busy": "2021-12-02T08:14:52.126584Z",
     "iopub.status.idle": "2021-12-02T08:14:52.133045Z",
     "shell.execute_reply": "2021-12-02T08:14:52.133608Z",
     "shell.execute_reply.started": "2021-06-12T07:27:54.014197Z"
    },
    "papermill": {
     "duration": 0.04429,
     "end_time": "2021-12-02T08:14:52.133772",
     "exception": false,
     "start_time": "2021-12-02T08:14:52.089482",
     "status": "completed"
    },
    "tags": []
   },
   "outputs": [
    {
     "data": {
      "text/plain": [
       "0.8033898305084746"
      ]
     },
     "execution_count": 24,
     "metadata": {},
     "output_type": "execute_result"
    }
   ],
   "source": [
    "accuracy_score(y_pred, y_test)"
   ]
  },
  {
   "cell_type": "code",
   "execution_count": 25,
   "id": "skilled-literacy",
   "metadata": {
    "execution": {
     "iopub.execute_input": "2021-12-02T08:14:52.208026Z",
     "iopub.status.busy": "2021-12-02T08:14:52.206855Z",
     "iopub.status.idle": "2021-12-02T08:14:52.215334Z",
     "shell.execute_reply": "2021-12-02T08:14:52.215854Z",
     "shell.execute_reply.started": "2021-06-12T07:28:00.169399Z"
    },
    "papermill": {
     "duration": 0.047886,
     "end_time": "2021-12-02T08:14:52.216056",
     "exception": false,
     "start_time": "2021-12-02T08:14:52.168170",
     "status": "completed"
    },
    "tags": []
   },
   "outputs": [
    {
     "data": {
      "text/plain": [
       "array([[159,  33],\n",
       "       [ 25,  78]])"
      ]
     },
     "execution_count": 25,
     "metadata": {},
     "output_type": "execute_result"
    }
   ],
   "source": [
    "confusion_matrix(y_pred, y_test)"
   ]
  },
  {
   "cell_type": "code",
   "execution_count": 26,
   "id": "veterinary-latitude",
   "metadata": {
    "execution": {
     "iopub.execute_input": "2021-12-02T08:14:52.294500Z",
     "iopub.status.busy": "2021-12-02T08:14:52.293585Z",
     "iopub.status.idle": "2021-12-02T08:14:52.296424Z",
     "shell.execute_reply": "2021-12-02T08:14:52.296923Z",
     "shell.execute_reply.started": "2021-06-12T07:50:19.26543Z"
    },
    "papermill": {
     "duration": 0.04557,
     "end_time": "2021-12-02T08:14:52.297101",
     "exception": false,
     "start_time": "2021-12-02T08:14:52.251531",
     "status": "completed"
    },
    "tags": []
   },
   "outputs": [],
   "source": [
    "test_data.Fare = test_data.Fare.fillna(test_data.Fare.mean())"
   ]
  },
  {
   "cell_type": "code",
   "execution_count": 27,
   "id": "destroyed-magazine",
   "metadata": {
    "execution": {
     "iopub.execute_input": "2021-12-02T08:14:52.370642Z",
     "iopub.status.busy": "2021-12-02T08:14:52.369960Z",
     "iopub.status.idle": "2021-12-02T08:14:52.375780Z",
     "shell.execute_reply": "2021-12-02T08:14:52.376338Z",
     "shell.execute_reply.started": "2021-06-12T07:51:41.645372Z"
    },
    "papermill": {
     "duration": 0.044472,
     "end_time": "2021-12-02T08:14:52.376510",
     "exception": false,
     "start_time": "2021-12-02T08:14:52.332038",
     "status": "completed"
    },
    "tags": []
   },
   "outputs": [],
   "source": [
    "from sklearn.model_selection import cross_val_score\n",
    "from sklearn.model_selection import GridSearchCV\n",
    "from sklearn.ensemble import RandomForestClassifier\n",
    "from sklearn.metrics import accuracy_score\n",
    "from sklearn.svm import SVC\n",
    "param_grid = { \n",
    "    'n_estimators': [200, 500],\n",
    "    'max_features': ['auto', 'sqrt', 'log2'],\n",
    "    'max_depth' : [4,5,6,7,8],\n",
    "    'criterion' :['gini', 'entropy']\n",
    "}\n",
    "#CV_rfc = GridSearchCV(estimator=model, param_grid=param_grid, cv= 5)\n",
    "#CV_rfc.fit(X_train, y_train)"
   ]
  },
  {
   "cell_type": "code",
   "execution_count": 28,
   "id": "gothic-level",
   "metadata": {
    "execution": {
     "iopub.execute_input": "2021-12-02T08:14:52.448911Z",
     "iopub.status.busy": "2021-12-02T08:14:52.448264Z",
     "iopub.status.idle": "2021-12-02T08:14:52.451671Z",
     "shell.execute_reply": "2021-12-02T08:14:52.452327Z",
     "shell.execute_reply.started": "2021-06-12T07:55:26.669614Z"
    },
    "papermill": {
     "duration": 0.041296,
     "end_time": "2021-12-02T08:14:52.452492",
     "exception": false,
     "start_time": "2021-12-02T08:14:52.411196",
     "status": "completed"
    },
    "tags": []
   },
   "outputs": [],
   "source": [
    "#CV_rfc.best_params_"
   ]
  },
  {
   "cell_type": "code",
   "execution_count": 29,
   "id": "suitable-vertical",
   "metadata": {
    "execution": {
     "iopub.execute_input": "2021-12-02T08:14:52.525744Z",
     "iopub.status.busy": "2021-12-02T08:14:52.525070Z",
     "iopub.status.idle": "2021-12-02T08:14:52.971344Z",
     "shell.execute_reply": "2021-12-02T08:14:52.970756Z",
     "shell.execute_reply.started": "2021-06-12T07:56:34.652482Z"
    },
    "papermill": {
     "duration": 0.484389,
     "end_time": "2021-12-02T08:14:52.971497",
     "exception": false,
     "start_time": "2021-12-02T08:14:52.487108",
     "status": "completed"
    },
    "tags": []
   },
   "outputs": [
    {
     "data": {
      "text/plain": [
       "RandomForestClassifier(criterion='entropy', max_depth=6, max_features='log2',\n",
       "                       n_estimators=200, random_state=42)"
      ]
     },
     "execution_count": 29,
     "metadata": {},
     "output_type": "execute_result"
    }
   ],
   "source": [
    "rfc1=RandomForestClassifier(random_state=42, max_features='log2', n_estimators= 200, max_depth=6, criterion='entropy')\n",
    "rfc1.fit(X_train, y_train)"
   ]
  },
  {
   "cell_type": "code",
   "execution_count": 30,
   "id": "logical-orchestra",
   "metadata": {
    "execution": {
     "iopub.execute_input": "2021-12-02T08:14:53.050474Z",
     "iopub.status.busy": "2021-12-02T08:14:53.049769Z",
     "iopub.status.idle": "2021-12-02T08:14:53.098418Z",
     "shell.execute_reply": "2021-12-02T08:14:53.099181Z",
     "shell.execute_reply.started": "2021-06-12T07:56:37.418862Z"
    },
    "papermill": {
     "duration": 0.092772,
     "end_time": "2021-12-02T08:14:53.099458",
     "exception": false,
     "start_time": "2021-12-02T08:14:53.006686",
     "status": "completed"
    },
    "tags": []
   },
   "outputs": [
    {
     "name": "stdout",
     "output_type": "stream",
     "text": [
      "Your submission was successfully saved!\n"
     ]
    }
   ],
   "source": [
    "predictions = rfc1.predict(test_data[features])\n",
    "output = pd.DataFrame({'PassengerId': test_data.PassengerId, 'Survived': predictions})\n",
    "output.to_csv('submission.csv', index=False)\n",
    "print(\"Your submission was successfully saved!\")"
   ]
  },
  {
   "cell_type": "code",
   "execution_count": null,
   "id": "characteristic-replacement",
   "metadata": {
    "papermill": {
     "duration": 0.035998,
     "end_time": "2021-12-02T08:14:53.171592",
     "exception": false,
     "start_time": "2021-12-02T08:14:53.135594",
     "status": "completed"
    },
    "tags": []
   },
   "outputs": [],
   "source": []
  }
 ],
 "metadata": {
  "kernelspec": {
   "display_name": "Python 3",
   "language": "python",
   "name": "python3"
  },
  "language_info": {
   "codemirror_mode": {
    "name": "ipython",
    "version": 3
   },
   "file_extension": ".py",
   "mimetype": "text/x-python",
   "name": "python",
   "nbconvert_exporter": "python",
   "pygments_lexer": "ipython3",
   "version": "3.9.6"
  },
  "papermill": {
   "default_parameters": {},
   "duration": 14.798009,
   "end_time": "2021-12-02T08:14:54.726079",
   "environment_variables": {},
   "exception": null,
   "input_path": "__notebook__.ipynb",
   "output_path": "__notebook__.ipynb",
   "parameters": {},
   "start_time": "2021-12-02T08:14:39.928070",
   "version": "2.3.3"
  }
 },
 "nbformat": 4,
 "nbformat_minor": 5
}
